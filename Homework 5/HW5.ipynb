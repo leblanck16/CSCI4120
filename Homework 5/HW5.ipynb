{
 "cells": [
  {
   "cell_type": "markdown",
   "metadata": {},
   "source": [
    "# Homework 5\n",
    "You need to classify digits with SVM models in this homework. Use PCA to reduce data dimensionality (80% information remain). Compare performance of linear, radial, and polynomial kernals. Tune kernal parameters using Randomsearch method."
   ]
  },
  {
   "cell_type": "code",
   "execution_count": 1,
   "metadata": {},
   "outputs": [
    {
     "data": {
      "image/png": "[encoded data removed]",
      "text/plain": [
       "<Figure size 720x288 with 40 Axes>"
      ]
     },
     "metadata": {},
     "output_type": "display_data"
    }
   ],
   "source": [
    "%matplotlib inline\n",
    "import numpy as np\n",
    "import matplotlib.pyplot as plt\n",
    "from scipy import stats\n",
    "\n",
    "# use seaborn plotting defaults\n",
    "import seaborn as sns; sns.set()\n",
    "from sklearn import datasets, svm, metrics\n",
    "\n",
    "# The digits dataset\n",
    "digits = datasets.load_digits()\n",
    "\n",
    "def plot_digits(data):\n",
    "    fig, axes = plt.subplots(4, 10, figsize=(10, 4),\n",
    "                             subplot_kw={'xticks':[], 'yticks':[]},\n",
    "                             gridspec_kw=dict(hspace=0.1, wspace=0.1))\n",
    "    for i, ax in enumerate(axes.flat):\n",
    "        ax.imshow(data[i].reshape(8, 8),\n",
    "                  cmap='binary', interpolation='nearest',\n",
    "                  clim=(0, 16))\n",
    "plot_digits(digits.data)"
   ]
  },
  {
   "cell_type": "markdown",
   "metadata": {},
   "source": [
    "## Setup\n",
    "Here we'll set up some variables for use later, and some imports for our application."
   ]
  },
  {
   "cell_type": "code",
   "execution_count": 2,
   "metadata": {},
   "outputs": [],
   "source": [
    "from sklearn.decomposition import PCA\n",
    "from sklearn.model_selection import RandomizedSearchCV\n",
    "from sklearn.svm import SVC\n",
    "import math\n",
    "import scipy.stats as stats\n",
    "from timeit import timeit\n",
    "\n",
    "X = digits.data\n",
    "y = digits.target"
   ]
  },
  {
   "cell_type": "markdown",
   "metadata": {},
   "source": [
    "## PCA\n",
    "Using PCA, we'll reduce the dimensionality of input data to .8."
   ]
  },
  {
   "cell_type": "code",
   "execution_count": 3,
   "metadata": {},
   "outputs": [
    {
     "name": "stdout",
     "output_type": "stream",
     "text": [
      "Components: 13\n",
      "Explained Variance Ratio: 0.8028957761040318\n"
     ]
    },
    {
     "data": {
      "image/png": "[encoded data removed]",
      "text/plain": [
       "<Figure size 720x288 with 40 Axes>"
      ]
     },
     "metadata": {},
     "output_type": "display_data"
    }
   ],
   "source": [
    "pca = PCA( n_components = .8 )\n",
    "pca.fit(X)\n",
    "\n",
    "print('Components: %s'%pca.n_components_)\n",
    "print('Explained Variance Ratio: %s'%sum(pca.explained_variance_ratio_))\n",
    "\n",
    "nX = pca.transform(X)\n",
    "\n",
    "def plot_digits_transformed(data):\n",
    "    fig, axes = plt.subplots(4, 10, figsize=(10, 4),\n",
    "                             subplot_kw={'xticks':[], 'yticks':[]},\n",
    "                             gridspec_kw=dict(hspace=0.1, wspace=0.1))\n",
    "    for i, ax in enumerate(axes.flat):\n",
    "        w = int(math.floor(len(data[i])**(1/2)))\n",
    "        h = int(math.ceil(len(data[i])**(1/2)))\n",
    "        if len(data)>w*h:\n",
    "            dat = data[i][0:w*h].reshape( w, h )\n",
    "        elif len(data)<w*h:\n",
    "            while len(data)<w*h:\n",
    "                if w>h:\n",
    "                    w -= 1\n",
    "                else:\n",
    "                    h -= 1\n",
    "            dat = data[i][0:w*h].reshape( w, h )\n",
    "        else:\n",
    "            dat = data[i]\n",
    "        ax.imshow(dat,\n",
    "                  cmap='binary', interpolation='nearest',\n",
    "                  clim=(0, 16))\n",
    "    plt.xlabel(\"Approximate transformed data.\")\n",
    "plot_digits_transformed(nX)"
   ]
  },
  {
   "cell_type": "markdown",
   "metadata": {},
   "source": [
    "## SVM\n",
    "Now, we will find candidates for optimal values for each kernel.\n",
    "\n",
    "### Linear"
   ]
  },
  {
   "cell_type": "code",
   "execution_count": 4,
   "metadata": {},
   "outputs": [
    {
     "name": "stdout",
     "output_type": "stream",
     "text": [
      "Best Score: 0.9220923761825265\n",
      "C: 0.24409208091620505\n",
      "Runtime: 109.14054927899997\n"
     ]
    }
   ],
   "source": [
    "model = SVC( kernel = \"linear\" )\n",
    "distributions = {\n",
    "    \"C\": stats.uniform(0,10)\n",
    "}\n",
    "search = RandomizedSearchCV(\n",
    "    estimator = model,\n",
    "    param_distributions = distributions,\n",
    "    cv = 5,\n",
    "    n_iter = 100,\n",
    "    iid = True\n",
    ")\n",
    "runtime = timeit( lambda: search.fit(nX,y), number = 1 )\n",
    "\n",
    "print(\"Best Score: %s\"%search.best_score_)\n",
    "print(\"C: %s\"%search.best_estimator_.C)\n",
    "print(\"Runtime: %s\"%runtime)"
   ]
  },
  {
   "cell_type": "markdown",
   "metadata": {},
   "source": [
    "### Radial"
   ]
  },
  {
   "cell_type": "code",
   "execution_count": 5,
   "metadata": {},
   "outputs": [
    {
     "name": "stdout",
     "output_type": "stream",
     "text": [
      "Best Score: 0.9677239844184753\n",
      "C: 6.585520756935103\n",
      "Gamma: 0.0015361469017810547\n",
      "Runtime: 272.42769683999995\n"
     ]
    }
   ],
   "source": [
    "model = SVC( kernel = \"rbf\" )\n",
    "distributions = {\n",
    "    \"C\": stats.uniform(0,10),\n",
    "    \"gamma\": stats.uniform(0,.1)\n",
    "}\n",
    "search = RandomizedSearchCV(\n",
    "    estimator = model,\n",
    "    param_distributions = distributions,\n",
    "    cv = 5,\n",
    "    n_iter = 100,\n",
    "    iid = True\n",
    ")\n",
    "runtime = timeit( lambda: search.fit(nX,y), number = 1 )\n",
    "\n",
    "print(\"Best Score: %s\"%search.best_score_)\n",
    "print(\"C: %s\"%search.best_estimator_.C)\n",
    "print(\"Gamma: %s\"%search.best_estimator_.gamma)\n",
    "print(\"Runtime: %s\"%runtime)"
   ]
  },
  {
   "cell_type": "markdown",
   "metadata": {},
   "source": [
    "### Polynomial"
   ]
  },
  {
   "cell_type": "code",
   "execution_count": 6,
   "metadata": {},
   "outputs": [
    {
     "name": "stdout",
     "output_type": "stream",
     "text": [
      "Best Score: 0.9716193656093489\n",
      "C: 4.2175526408692185\n",
      "Gamma: 0.001094899328488206\n",
      "Runtime: 152.39422311499948\n"
     ]
    }
   ],
   "source": [
    "model = SVC( kernel = \"rbf\" )\n",
    "distributions = {\n",
    "    \"C\": stats.uniform(0,10),\n",
    "    \"gamma\": stats.uniform(0, 0.01)\n",
    "}\n",
    "search = RandomizedSearchCV(\n",
    "    estimator = model,\n",
    "    param_distributions = distributions,\n",
    "    cv = 5,\n",
    "    n_iter = 100,\n",
    "    iid = True\n",
    ")\n",
    "runtime = timeit( lambda: search.fit(nX,y), number = 1 )\n",
    "\n",
    "print(\"Best Score: %s\"%search.best_score_)\n",
    "print(\"C: %s\"%search.best_estimator_.C)\n",
    "print(\"Gamma: %s\"%search.best_estimator_.gamma)\n",
    "print(\"Runtime: %s\"%runtime)"
   ]
  }
 ],
 "metadata": {
  "kernelspec": {
   "display_name": "Python 3",
   "language": "python",
   "name": "python3"
  },
  "language_info": {
   "codemirror_mode": {
    "name": "ipython",
    "version": 3
   },
   "file_extension": ".py",
   "mimetype": "text/x-python",
   "name": "python",
   "nbconvert_exporter": "python",
   "pygments_lexer": "ipython3",
   "version": "3.5.2"
  }
 },
 "nbformat": 4,
 "nbformat_minor": 2
}
